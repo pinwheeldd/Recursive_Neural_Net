{
 "cells": [
  {
   "cell_type": "code",
   "execution_count": 1,
   "metadata": {},
   "outputs": [],
   "source": [
    "import sys\n",
    "sys.path.append(\"..\")"
   ]
  },
  {
   "cell_type": "code",
   "execution_count": 11,
   "metadata": {},
   "outputs": [],
   "source": [
    "%matplotlib inline\n",
    "import matplotlib.pyplot as plt\n",
    "plt.rcParams[\"figure.figsize\"] = (8, 8)"
   ]
  },
  {
   "cell_type": "code",
   "execution_count": 3,
   "metadata": {},
   "outputs": [
    {
     "name": "stdout",
     "output_type": "stream",
     "text": [
      "/Users/dipsikhadebnath/Desktop/QCD_aware/Pytorch_code/Pytorch_simple\n"
     ]
    }
   ],
   "source": [
    "cd ~/Desktop/QCD_aware/Pytorch_code/Pytorch_simple/"
   ]
  },
  {
   "cell_type": "code",
   "execution_count": 22,
   "metadata": {},
   "outputs": [],
   "source": [
    "import numpy as np\n",
    "np.seterr(divide=\"ignore\")\n",
    "import pickle\n",
    "import pandas as pd\n",
    "import glob\n",
    "import os\n",
    "import pickle\n",
    "from sklearn.metrics import roc_curve, roc_auc_score\n",
    "from scipy import interp\n",
    "from sklearn.metrics import classification_report, accuracy_score, confusion_matrix, roc_curve"
   ]
  },
  {
   "cell_type": "code",
   "execution_count": 4,
   "metadata": {},
   "outputs": [],
   "source": [
    "import pickle\n",
    "fd = open(\"ytrue_ypred_50.pickle\",\"rb\")\n",
    "ytrue,ypred = pickle.load(fd)\n",
    "fd.close()"
   ]
  },
  {
   "cell_type": "code",
   "execution_count": 7,
   "metadata": {},
   "outputs": [
    {
     "name": "stdout",
     "output_type": "stream",
     "text": [
      "ROC_AUC: 0.9786044874759159\n",
      "test accuracy: 0.9250775\n"
     ]
    }
   ],
   "source": [
    "roc_auc = roc_auc_score(ytrue,ypred) \n",
    "accuracy=np.sum(np.rint(ypred)==ytrue)/float(len(ytrue)) \n",
    "print(\"ROC_AUC:\", roc_auc)\n",
    "print(\"test accuracy:\",accuracy)\n",
    "\n"
   ]
  },
  {
   "cell_type": "code",
   "execution_count": 15,
   "metadata": {},
   "outputs": [
    {
     "name": "stdout",
     "output_type": "stream",
     "text": [
      "1/fpr at tpr=30% -> 701.9891656954873\n"
     ]
    },
    {
     "data": {
      "image/png": "[encoded data removed]",
      "text/plain": [
       "<Figure size 576x576 with 1 Axes>"
      ]
     },
     "metadata": {
      "needs_background": "light"
     },
     "output_type": "display_data"
    }
   ],
   "source": [
    "fprs=[]\n",
    "tprs=[]\n",
    "fpr,tpr,_=roc_curve(ytrue, ypred)\n",
    "fprs.append(fpr)\n",
    "tprs.append(tpr)\n",
    "\n",
    "inv_fprs = []\n",
    "base_tpr = np.linspace(0.05, 1, 500)\n",
    "    \n",
    "for fpr, tpr in zip(fprs, tprs):\n",
    "    inv_fpr = interp(base_tpr, tpr, 1. / fpr)\n",
    "    inv_fprs.append(inv_fpr)\n",
    "    plt.semilogy(base_tpr, inv_fpr, color=\"red\")\n",
    "        \n",
    "    inv_fprs = np.array(inv_fprs)\n",
    "    mean_inv_fprs = inv_fprs.mean(axis=0)\n",
    "\n",
    "\n",
    "    plt.plot(base_tpr, mean_inv_fprs, color=\"red\",label=\"RecNN\")\n",
    "    plt.xlabel(\"Signal efficiency\",fontsize=12)\n",
    "    plt.ylabel(\"1 / Background efficiency\",fontsize=12)\n",
    "    plt.xlim([0.1, 1.01])\n",
    "    plt.ylim(1, 10000)\n",
    "    plt.yscale(\"log\")\n",
    "    plt.legend(loc=\"best\",fontsize=12)\n",
    "    print(\"1/fpr at tpr=30% ->\",np.interp(0.3, base_tpr, mean_inv_fprs))"
   ]
  },
  {
   "cell_type": "code",
   "execution_count": 23,
   "metadata": {},
   "outputs": [
    {
     "data": {
      "text/html": [
       "<div>\n",
       "<style scoped>\n",
       "    .dataframe tbody tr th:only-of-type {\n",
       "        vertical-align: middle;\n",
       "    }\n",
       "\n",
       "    .dataframe tbody tr th {\n",
       "        vertical-align: top;\n",
       "    }\n",
       "\n",
       "    .dataframe thead th {\n",
       "        text-align: right;\n",
       "    }\n",
       "</style>\n",
       "<table border=\"1\" class=\"dataframe\">\n",
       "  <thead>\n",
       "    <tr style=\"text-align: right;\">\n",
       "      <th></th>\n",
       "      <th>0</th>\n",
       "      <th>1</th>\n",
       "    </tr>\n",
       "  </thead>\n",
       "  <tbody>\n",
       "    <tr>\n",
       "      <th>0</th>\n",
       "      <td>183582</td>\n",
       "      <td>16392</td>\n",
       "    </tr>\n",
       "    <tr>\n",
       "      <th>1</th>\n",
       "      <td>13577</td>\n",
       "      <td>186449</td>\n",
       "    </tr>\n",
       "  </tbody>\n",
       "</table>\n",
       "</div>"
      ],
      "text/plain": [
       "        0       1\n",
       "0  183582   16392\n",
       "1   13577  186449"
      ]
     },
     "execution_count": 23,
     "metadata": {},
     "output_type": "execute_result"
    }
   ],
   "source": [
    "pd.DataFrame(confusion_matrix(ytrue,np.rint(ypred)))"
   ]
  },
  {
   "cell_type": "code",
   "execution_count": 19,
   "metadata": {},
   "outputs": [
    {
     "name": "stdout",
     "output_type": "stream",
     "text": [
      "             precision    recall  f1-score   support\n",
      "\n",
      "        0.0       0.93      0.92      0.92    199974\n",
      "        1.0       0.92      0.93      0.93    200026\n",
      "\n",
      "avg / total       0.93      0.93      0.93    400000\n",
      "\n"
     ]
    }
   ],
   "source": [
    "print(classification_report(ytrue, np.rint(ypred)))"
   ]
  },
  {
   "cell_type": "code",
   "execution_count": null,
   "metadata": {},
   "outputs": [],
   "source": []
  }
 ],
 "metadata": {
  "kernelspec": {
   "display_name": "Python 3",
   "language": "python",
   "name": "python3"
  },
  "language_info": {
   "codemirror_mode": {
    "name": "ipython",
    "version": 3
   },
   "file_extension": ".py",
   "mimetype": "text/x-python",
   "name": "python",
   "nbconvert_exporter": "python",
   "pygments_lexer": "ipython3",
   "version": "3.7.0"
  }
 },
 "nbformat": 4,
 "nbformat_minor": 2
}
